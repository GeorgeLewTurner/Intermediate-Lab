{
 "cells": [
  {
   "cell_type": "code",
   "execution_count": 1,
   "id": "6f5670fe",
   "metadata": {},
   "outputs": [],
   "source": [
    "import numpy as np\n",
    "import pandas as pd\n",
    "import matplotlib.pyplot as plt\n",
    "import originpro as op"
   ]
  },
  {
   "cell_type": "code",
   "execution_count": 2,
   "id": "cdd4df37",
   "metadata": {},
   "outputs": [],
   "source": [
    "data = []\n",
    "data.append(pd.read_csv('190.csv', header = None))\n",
    "data.append(pd.read_excel('170.xlsx', header = None))\n",
    "data.append(pd.read_excel('150.xlsx', header = None))"
   ]
  },
  {
   "cell_type": "code",
   "execution_count": 4,
   "id": "6b9c251c",
   "metadata": {},
   "outputs": [
    {
     "name": "stdout",
     "output_type": "stream",
     "text": [
      "[367, 1619, 2867]\n",
      "[1009, 2251, 3502]\n"
     ]
    }
   ],
   "source": [
    "df = data[0]\n",
    "wav = df[0]\n",
    "window = [df[0][0],df[0][0],df[0][0]]\n",
    "row = 0\n",
    "end = []\n",
    "beg = []\n",
    "for i in wav:\n",
    "    if i == df[0][0]:\n",
    "        if i != window[0] and i != window[1] and i != window[2]:\n",
    "            end.append(row)\n",
    "    else:\n",
    "        if (window[0] == window[1] == window[2] == df[0][0]) and (wav[row + 1] != df[0][0]) and (wav[row + 2] != df[0][0]) and (wav[row + 3] != df[0][0]):\n",
    "            beg.append(row)\n",
    "    window.pop(0)\n",
    "    window.append(i)\n",
    "    row += 1\n",
    "print(beg)\n",
    "print(end)"
   ]
  },
  {
   "cell_type": "code",
   "execution_count": 5,
   "id": "5e22819f",
   "metadata": {},
   "outputs": [
    {
     "data": {
      "text/plain": [
       "[<matplotlib.lines.Line2D at 0x194cd2da590>]"
      ]
     },
     "execution_count": 5,
     "metadata": {},
     "output_type": "execute_result"
    },
    {
     "data": {
      "image/png": "[encoded data removed]",
      "text/plain": [
       "<Figure size 640x480 with 1 Axes>"
      ]
     },
     "metadata": {},
     "output_type": "display_data"
    }
   ],
   "source": [
    "df_1 = df.iloc[beg[0]:end[0],:]\n",
    "df_2 = df.iloc[beg[1]:end[1],:]\n",
    "df_3 = df.iloc[beg[2]:end[2],:]\n",
    "\n",
    "a = df_3[0].tolist()\n",
    "b = df_3[1].tolist()\n",
    "plt.plot(a)"
   ]
  },
  {
   "cell_type": "code",
   "execution_count": 6,
   "id": "c16917c3",
   "metadata": {},
   "outputs": [],
   "source": [
    "df_1.to_csv('190_trial1.csv', header = False, index = False)\n",
    "df_2.to_csv('190_trial2.csv', header = False, index = False)\n",
    "df_3.to_csv('190_trial3.csv', header = False, index = False)"
   ]
  },
  {
   "cell_type": "code",
   "execution_count": 10,
   "id": "02c8caf3",
   "metadata": {},
   "outputs": [],
   "source": [
    "import sys\n",
    "def origin_shutdown_exception_hook(exctype, value, traceback):\n",
    "    op.exit()\n",
    "    sys.__excepthook__(exctype, value, traceback)\n",
    "if op and op.oext:\n",
    "    sys.excepthook = origin_shutdown_exception_hook\n",
    "\n",
    "\n",
    "# Set Origin instance visibility.\n",
    "if op.oext:\n",
    "    op.set_show(True)\n",
    "    \n",
    "op.new()\n",
    "\n",
    "dest_wks = op.new_sheet('w')\n",
    "\n",
    "dest_wks.from_df(df_1)\n",
    "dest_wks.get_book().add_sheet().from_df(df_2)\n",
    "dest_wks.get_book().add_sheet().from_df(df_3)\n",
    "\n",
    "    \n"
   ]
  },
  {
   "cell_type": "code",
   "execution_count": 11,
   "id": "feb73f6b",
   "metadata": {},
   "outputs": [],
   "source": [
    "if op.oext:\n",
    "    op.exit()"
   ]
  },
  {
   "cell_type": "code",
   "execution_count": null,
   "id": "72138184",
   "metadata": {},
   "outputs": [],
   "source": []
  },
  {
   "cell_type": "code",
   "execution_count": null,
   "id": "344184b2",
   "metadata": {},
   "outputs": [],
   "source": []
  }
 ],
 "metadata": {
  "kernelspec": {
   "display_name": "Python 3 (ipykernel)",
   "language": "python",
   "name": "python3"
  },
  "language_info": {
   "codemirror_mode": {
    "name": "ipython",
    "version": 3
   },
   "file_extension": ".py",
   "mimetype": "text/x-python",
   "name": "python",
   "nbconvert_exporter": "python",
   "pygments_lexer": "ipython3",
   "version": "3.11.5"
  }
 },
 "nbformat": 4,
 "nbformat_minor": 5
}
