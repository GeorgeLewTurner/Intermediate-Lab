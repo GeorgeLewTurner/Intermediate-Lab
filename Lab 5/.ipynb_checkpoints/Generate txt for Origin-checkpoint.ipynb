{
 "cells": [
  {
   "cell_type": "code",
   "execution_count": 58,
   "id": "80e8d9f2",
   "metadata": {},
   "outputs": [],
   "source": [
    "import os\n",
    "import numpy as np\n",
    "import pandas as pd\n",
    "import csv\n",
    "import linecache\n",
    "import originpro as op"
   ]
  },
  {
   "cell_type": "code",
   "execution_count": 2,
   "id": "b0d5ea6e",
   "metadata": {},
   "outputs": [
    {
     "data": {
      "text/plain": [
       "'C:\\\\Users\\\\George\\\\Documents\\\\GitHub\\\\Intermediate-Lab\\\\Lab 5\\\\NUCLYEAAR LAB'"
      ]
     },
     "execution_count": 2,
     "metadata": {},
     "output_type": "execute_result"
    }
   ],
   "source": [
    "os.chdir('NUCLYEAAR LAB')\n",
    "os.getcwd()"
   ]
  },
  {
   "cell_type": "code",
   "execution_count": 14,
   "id": "8c82672c",
   "metadata": {},
   "outputs": [],
   "source": [
    "files = os.listdir()\n",
    "for file in files:\n",
    "    if file.endswith('.Txt'):\n",
    "        with open(file, 'r') as f :\n",
    "            df = pd.read_table(f, skiprows = 26, index_col = 0, header = None, sep = '\\s+')\n",
    "        df.fillna(0, inplace=True)\n",
    "        data = df.to_numpy().flatten()\n",
    "        data = data.astype(int)\n",
    "        rows = np.arange(1, data.size + 1) * 8.379747E-001\n",
    "        os.chdir('../')\n",
    "        os.chdir('Data for Origin')\n",
    "        if file.startswith('Ba-133'):\n",
    "            os.chdir('Ba-133')\n",
    "        elif file.startswith('Co-60'):\n",
    "            os.chdir('Co-60')\n",
    "        elif file.startswith('Na-22'):\n",
    "            os.chdir('Na-22')\n",
    "        with open('Analysis ' + file, 'w') as f:\n",
    "            writer = csv.writer(f, delimiter='\\t', lineterminator = '\\n')\n",
    "            writer.writerows(zip(rows,data))\n",
    "        os.chdir('../')\n",
    "        if file.startswith('Ba-133'):\n",
    "            os.chdir('../')\n",
    "        elif file.startswith('Co-60'):\n",
    "            os.chdir('../')\n",
    "        elif file.startswith('Na-22'):\n",
    "            os.chdir('../')\n",
    "        os.chdir('NUCLYEAAR LAB')\n"
   ]
  },
  {
   "cell_type": "code",
   "execution_count": 64,
   "id": "31a5d7e8",
   "metadata": {},
   "outputs": [
    {
     "data": {
      "text/plain": [
       "'C:\\\\Users\\\\George\\\\Documents\\\\GitHub\\\\Intermediate-Lab\\\\Lab 5\\\\Data for Origin\\\\Ba-133'"
      ]
     },
     "execution_count": 64,
     "metadata": {},
     "output_type": "execute_result"
    }
   ],
   "source": [
    "os.chdir('Ba-133')\n",
    "os.getcwd()"
   ]
  },
  {
   "cell_type": "code",
   "execution_count": 66,
   "id": "a377bf04",
   "metadata": {},
   "outputs": [],
   "source": [
    "trials = [] \n",
    "files = os.listdir()\n",
    "for file in files:\n",
    "    with open(file, 'r') as f :\n",
    "        df = pd.read_table(f, index_col = None, header = None, sep = '\\s+')\n",
    "        trials.append(df)\n"
   ]
  },
  {
   "cell_type": "code",
   "execution_count": 67,
   "id": "36f910b2",
   "metadata": {},
   "outputs": [],
   "source": [
    "df_concat = pd.concat(trials[:2])\n",
    "by_row_index = df_concat.groupby(df_concat.index)\n",
    "df_means = by_row_index.mean()\n",
    "df = df_means.rename({0: 'Radiation Energy', 1: 'Intensity'}, axis=1)\n",
    "df2 = pd.DataFrame([['KeV','counts']], columns = ['Radiation Energy','Intensity'])\n",
    "output = pd.concat([df2, df], ignore_index=True)\n",
    "output.to_csv('Ba-133Avg.csv', index=False)\n",
    "\n"
   ]
  },
  {
   "cell_type": "code",
   "execution_count": null,
   "id": "aa918b4a",
   "metadata": {},
   "outputs": [],
   "source": [
    "import originpro as op\n",
    "\n",
    "\n",
    "# Ensures that the Origin instance gets shut down properly.\n",
    "import sys\n",
    "def origin_shutdown_exception_hook(exctype, value, traceback):\n",
    "    op.exit()\n",
    "    sys.__excepthook__(exctype, value, traceback)\n",
    "if op and op.oext:\n",
    "    sys.excepthook = origin_shutdown_exception_hook\n",
    "\n",
    "\n",
    "# Set Origin instance visibility.\n",
    "if op.oext:\n",
    "    op.set_show(True)\n",
    "\n",
    "# YOUR CODE HERE\n",
    "\n",
    "# Exit running instance of Origin.\n",
    "if op.oext:\n",
    "    op.exit()"
   ]
  }
 ],
 "metadata": {
  "kernelspec": {
   "display_name": "Python 3 (ipykernel)",
   "language": "python",
   "name": "python3"
  },
  "language_info": {
   "codemirror_mode": {
    "name": "ipython",
    "version": 3
   },
   "file_extension": ".py",
   "mimetype": "text/x-python",
   "name": "python",
   "nbconvert_exporter": "python",
   "pygments_lexer": "ipython3",
   "version": "3.11.5"
  }
 },
 "nbformat": 4,
 "nbformat_minor": 5
}
